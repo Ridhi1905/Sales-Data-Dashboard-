import pandas as pd

# Load data
df = pd.read_csv("/content/sales.csv")

# Clean data
df.drop_duplicates(inplace=True)
df.fillna({'Customer_Satisfaction': df['Customer_Satisfaction'].mean()}, inplace=True)

# Compute KPIs
total_revenue = df['Revenue'].sum()
avg_profit_margin = (df['Profit'].sum() / df['Revenue'].sum()) * 100
avg_satisfaction = df['Customer_Satisfaction'].mean()

print("Total Revenue:", total_revenue)
print("Average Profit Margin:", round(avg_profit_margin, 2), "%")
print("Average Customer Satisfaction:", round(avg_satisfaction, 2))
